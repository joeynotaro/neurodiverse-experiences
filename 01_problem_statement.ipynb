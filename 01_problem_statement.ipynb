{
 "cells": [
  {
   "cell_type": "markdown",
   "id": "94c9e504-d5b2-4285-bdf5-de3fcb1e5918",
   "metadata": {},
   "source": [
    "# Part 1: Problem Statement"
   ]
  },
  {
   "cell_type": "markdown",
   "id": "3edf611c-4e35-499b-988f-97fdbc6bff6c",
   "metadata": {},
   "source": [
    "---\n",
    "\n",
    "## Notebook Summary\n",
    "\n",
    "This notebook develops the problem statement under investigation in our classification problem of two different subreddits. The problem statement devles into scope and context, and then the notebook goes into much further detail regarding background information and domain-specific knowledge required to understand the full context. In this notebook, the reader will find:\n",
    "\n",
    "* Problem Statement\n",
    "* Background Information\n",
    "* Notebook Conclusion"
   ]
  },
  {
   "cell_type": "markdown",
   "id": "e39fbbdf-62a1-4fb2-8095-f23bb10c4bb9",
   "metadata": {},
   "source": [
    "---\n",
    "\n",
    "## Problem Statement\n",
    "\n",
    "The models contained here in these subsequent notebooks were developed for a disability right advocacy organization which aims to provide peer social support and services. The problem that we are trying to solve is:\n",
    "\n",
    "Many people experience the symptoms and signs of neurodiversity but often struggle to identify how their lived experience compares to a specific neurodiverse condition. For novice clients seeking social support for their neurodiversity, how can we use the written experiences of others living with ADHD and autism to build a model which most accurately classifies a novice's written, personal testimony as being one of more likely living with ADHD or autism?\n",
    "\n",
    "Since we will be using approximately 50% ADHD and 50% autism social media posts from Reddit's website, we will aim to build a model which will improve on the baseline accuracy score by approximately 40 percentage points or roughly 90% accuracy."
   ]
  },
  {
   "cell_type": "markdown",
   "id": "851ed93e-c757-485b-8c33-2f7e170abb59",
   "metadata": {},
   "source": [
    "---\n",
    "\n",
    "## Background Information\n",
    "\n",
    "Neurodiversity is the term used to cover a wide range of developmental disabilities which affect behavior, cognition, and socialization and are thought to include attention deficit hyperactivity disorder (ADHD), autism spectrum disorder (ASD), and various learning disabilities such as dyslexia, dyscalculia, and dyspraxia. [source](https://www.health.harvard.edu/blog/what-is-neurodiversity-202111232645). First developed by sociologist Judy Singer in 1998, neurodiversity is increasingly viewed as a social justice movement in the broader fight for inclusion and accessibility for people with disabilities [source](https://www.s4nd.org/). This shift has been promoted by a change in perspective of disability from a historically medical model to a social model. In the medical model, people with disabilities were impaired by their physical, mental, or psychological constitutions and thus were disabled by their own individual circumstances. However, in the social model, the prevalent perception is that physical, mental, and psychological impairments only become disabilities because the society disables certain bodies' capacity to participate fully in public and civic life [source](https://www.neurodivercitysg.com/medical-model-vs-social-model.html) The graphic below illustrates the major differences in these politicized worldviews of how people with disabilities experience the social world.\n",
    "\n",
    "\n",
    "![image info](./images/medical_vs_social_model.png)\n",
    "\n",
    "\n",
    "Many neurodiversity advocacy organizations have sprung up in the last 20 years to enhance support and services for neurodiverse people and to promote this social model. Despite these advancements in social acceptance and consciousness for neurodiverse people, the pyschomedical establishment continues to play a large role as the gatekeeper and arbiter of whether one qualifies as having one of these neurodiverse conditions. Due to the barriers to healthcare access and often high costs of psychometric evaluation, many potential members of these neurdiverse communities have sought camaraderie in support groups and online communities of people with like-minded experience, choosing self-diagnosis over medical barriers.\n",
    "\n",
    "Surprisingly though, as we have learned more about neurodiverse experiences, we have increasingly found high overlap in some of the common signs, symptoms, and experiences of those diagnosed and living with these conditions, much more than previously thought [source](https://neurodivergentinsights.com/misdiagnosis-monday/adhd-vs-autism). Therefore, for those for whose formal, medical diagnosis may be far removed or an undue burden, there is an increasing imperative for those experiencing neurdiverse traits in their everyday existence to gain a greater sense of which neurodiverse condition they may be experiencing or living with. Take a look at this image below to give you a better idea of the commonalities and differences with ADHD and ASD.\n",
    "\n",
    "\n",
    "\n",
    "\n",
    "![image info](./images/adhd_vs_autism.png)\n",
    "\n",
    "\n",
    "\n",
    "\n",
    "Therefore, this project endeavors to use the experiences of those living with ADHD and autism to create a model to help the novice more accurately classify their experience before seeking costly and time-consuming diagnosis for a condition that may not be what they are experiencing. It also hopes to be able to connect neurdiverse people with affinity groups and social support communities in a more accurate and timely manner to put name and identity to their experience."
   ]
  },
  {
   "cell_type": "markdown",
   "id": "64507eee-cfa7-4898-a5c7-68d81d2d8478",
   "metadata": {},
   "source": [
    "---\n",
    "\n",
    "## Notebook Conclusion\n",
    "\n",
    "In this notebook we have defined our problem statement as classifying the novice neurodiverse person as belong of the ADHD or autistic communities based on their own written, personal testimony. We have explored the impetus and necessity for such a model in the rise of a social model of disability and the increasing recognition that there is a much larger overlap in neurodiverse experiences than was previously thought. Since neurodiverse people do not always have access to the diagnosis apparatus of the medical system or may not be seeking formal diagnosis, merely social support and services, this model will aim to give people the possibility to name their experience.\n",
    "\n",
    "In Part 2, we will explain the data collection process and the API webscraper which was developed to gather text data from Reddit's API."
   ]
  }
 ],
 "metadata": {
  "kernelspec": {
   "display_name": "Python [conda env:dsi] *",
   "language": "python",
   "name": "conda-env-dsi-py"
  },
  "language_info": {
   "codemirror_mode": {
    "name": "ipython",
    "version": 3
   },
   "file_extension": ".py",
   "mimetype": "text/x-python",
   "name": "python",
   "nbconvert_exporter": "python",
   "pygments_lexer": "ipython3",
   "version": "3.8.16"
  }
 },
 "nbformat": 4,
 "nbformat_minor": 5
}
