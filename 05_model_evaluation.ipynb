{
 "cells": [
  {
   "cell_type": "markdown",
   "id": "a28b91a2-15c9-4e2c-b287-49e065bf550d",
   "metadata": {},
   "source": [
    "# Part 5: Model Evaluation"
   ]
  },
  {
   "cell_type": "markdown",
   "id": "38c10baa-6f30-4a0b-8196-06893e549102",
   "metadata": {},
   "source": [
    "---\n",
    "\n",
    "## Notebook Summary\n",
    "\n",
    "This notebook will take our final production model and evaluate its effectiveness against multiple metrics. The goal here is to see how well our model can answer the problem statement of classifying neurodiverse people into either the ADHD or autism categories based on their own personal testimonies of everyday lived experiences. The metric established in the problem statement was to exceed the null baseline accuracy score by forty percentage points. Included in this notebook, the reader will find:\n",
    "\n",
    "* Production Model Evaluation\n",
    "* Organizational Recommendations"
   ]
  },
  {
   "cell_type": "markdown",
   "id": "1c32137e-7ab7-4871-8943-4dfcef19c3d9",
   "metadata": {},
   "source": [
    "---\n",
    "\n",
    "## Production Model Evaluation\n",
    "\n",
    "We will be evaluating the final production model of the logistic regression below. First, we will read in the data one more time and then fit the production model again."
   ]
  },
  {
   "cell_type": "code",
   "execution_count": 1,
   "id": "06cfbbae-fa2f-4ede-843a-2b84011b495d",
   "metadata": {
    "tags": []
   },
   "outputs": [],
   "source": [
    "# import requisite libraries\n",
    "import pandas as pd\n",
    "import numpy as np\n",
    "\n",
    "from nltk.corpus import stopwords\n",
    "\n",
    "from sklearn.linear_model import LogisticRegression\n",
    "from sklearn.model_selection import train_test_split, GridSearchCV\n",
    "from sklearn.pipeline import Pipeline\n",
    "from sklearn.metrics import confusion_matrix, ConfusionMatrixDisplay, recall_score, precision_score, f1_score\n",
    "from sklearn.feature_extraction.text import CountVectorizer\n",
    "\n",
    "import warnings\n",
    "warnings.simplefilter('ignore')\n",
    "warnings.filterwarnings('ignore', category = UserWarning)"
   ]
  },
  {
   "cell_type": "code",
   "execution_count": 2,
   "id": "4108ddf5-a2ca-48ce-80fd-b24e630ee546",
   "metadata": {
    "tags": []
   },
   "outputs": [
    {
     "data": {
      "text/html": [
       "<div>\n",
       "<style scoped>\n",
       "    .dataframe tbody tr th:only-of-type {\n",
       "        vertical-align: middle;\n",
       "    }\n",
       "\n",
       "    .dataframe tbody tr th {\n",
       "        vertical-align: top;\n",
       "    }\n",
       "\n",
       "    .dataframe thead th {\n",
       "        text-align: right;\n",
       "    }\n",
       "</style>\n",
       "<table border=\"1\" class=\"dataframe\">\n",
       "  <thead>\n",
       "    <tr style=\"text-align: right;\">\n",
       "      <th></th>\n",
       "      <th>title</th>\n",
       "      <th>selftext</th>\n",
       "      <th>subreddit</th>\n",
       "      <th>post_word_count</th>\n",
       "      <th>post_length</th>\n",
       "      <th>selftext_lemma</th>\n",
       "      <th>sentiment</th>\n",
       "    </tr>\n",
       "  </thead>\n",
       "  <tbody>\n",
       "    <tr>\n",
       "      <th>0</th>\n",
       "      <td>Megathread: US Medication Shortage</td>\n",
       "      <td>as many of you are aware by now the current u ...</td>\n",
       "      <td>0</td>\n",
       "      <td>319</td>\n",
       "      <td>2033</td>\n",
       "      <td>a many of you are aware by now the current u s...</td>\n",
       "      <td>-0.9567</td>\n",
       "    </tr>\n",
       "    <tr>\n",
       "      <th>1</th>\n",
       "      <td>Did you do something you're proud of? Somethin...</td>\n",
       "      <td>what success have you had this week did you ac...</td>\n",
       "      <td>0</td>\n",
       "      <td>52</td>\n",
       "      <td>288</td>\n",
       "      <td>what success have you had this week did you ac...</td>\n",
       "      <td>0.9633</td>\n",
       "    </tr>\n",
       "    <tr>\n",
       "      <th>2</th>\n",
       "      <td>The Vyvanse poops have taken over my mornings..</td>\n",
       "      <td>i now wake up at least 1 5 hours early to ensu...</td>\n",
       "      <td>0</td>\n",
       "      <td>85</td>\n",
       "      <td>379</td>\n",
       "      <td>i now wake up at least 1 5 hour early to ensur...</td>\n",
       "      <td>0.6124</td>\n",
       "    </tr>\n",
       "    <tr>\n",
       "      <th>3</th>\n",
       "      <td>Why does someone forcing you to push through e...</td>\n",
       "      <td>i can t even explain how it hurts but it s so ...</td>\n",
       "      <td>0</td>\n",
       "      <td>62</td>\n",
       "      <td>304</td>\n",
       "      <td>i can t even explain how it hurt but it s so m...</td>\n",
       "      <td>-0.8755</td>\n",
       "    </tr>\n",
       "    <tr>\n",
       "      <th>4</th>\n",
       "      <td>Just had an epiphany- isn’t it crazy how relig...</td>\n",
       "      <td>so my mom can believe in all her saints god je...</td>\n",
       "      <td>0</td>\n",
       "      <td>175</td>\n",
       "      <td>897</td>\n",
       "      <td>so my mom can believe in all her saint god jes...</td>\n",
       "      <td>-0.9856</td>\n",
       "    </tr>\n",
       "    <tr>\n",
       "      <th>...</th>\n",
       "      <td>...</td>\n",
       "      <td>...</td>\n",
       "      <td>...</td>\n",
       "      <td>...</td>\n",
       "      <td>...</td>\n",
       "      <td>...</td>\n",
       "      <td>...</td>\n",
       "    </tr>\n",
       "    <tr>\n",
       "      <th>4579</th>\n",
       "      <td>Scared of old people</td>\n",
       "      <td>anyone else scared of old people when i talk t...</td>\n",
       "      <td>1</td>\n",
       "      <td>77</td>\n",
       "      <td>398</td>\n",
       "      <td>anyone else scared of old people when i talk t...</td>\n",
       "      <td>-0.7933</td>\n",
       "    </tr>\n",
       "    <tr>\n",
       "      <th>4580</th>\n",
       "      <td>Recommendations for blocking out noise for sleep</td>\n",
       "      <td>i have a really hard time sleeping due to even...</td>\n",
       "      <td>1</td>\n",
       "      <td>116</td>\n",
       "      <td>588</td>\n",
       "      <td>i have a really hard time sleeping due to even...</td>\n",
       "      <td>-0.6284</td>\n",
       "    </tr>\n",
       "    <tr>\n",
       "      <th>4581</th>\n",
       "      <td>Mom Refuses Access to Diagnosis Report</td>\n",
       "      <td>i 17f was diagnosed with autism and adhd aroun...</td>\n",
       "      <td>1</td>\n",
       "      <td>83</td>\n",
       "      <td>403</td>\n",
       "      <td>i 17f wa diagnosed with autism and adhd around...</td>\n",
       "      <td>-0.4019</td>\n",
       "    </tr>\n",
       "    <tr>\n",
       "      <th>4582</th>\n",
       "      <td>Do you feel uncomfortable with everyday sounds?</td>\n",
       "      <td>i m talking about inevitable sounds as birds d...</td>\n",
       "      <td>1</td>\n",
       "      <td>204</td>\n",
       "      <td>1067</td>\n",
       "      <td>i m talking about inevitable sound a bird dog ...</td>\n",
       "      <td>0.3574</td>\n",
       "    </tr>\n",
       "    <tr>\n",
       "      <th>4583</th>\n",
       "      <td>Is it okay to self identify as autistic despit...</td>\n",
       "      <td>so a few months ago i went into therapy for po...</td>\n",
       "      <td>1</td>\n",
       "      <td>195</td>\n",
       "      <td>1010</td>\n",
       "      <td>so a few month ago i went into therapy for pos...</td>\n",
       "      <td>0.9925</td>\n",
       "    </tr>\n",
       "  </tbody>\n",
       "</table>\n",
       "<p>4584 rows × 7 columns</p>\n",
       "</div>"
      ],
      "text/plain": [
       "                                                  title  \\\n",
       "0                    Megathread: US Medication Shortage   \n",
       "1     Did you do something you're proud of? Somethin...   \n",
       "2       The Vyvanse poops have taken over my mornings..   \n",
       "3     Why does someone forcing you to push through e...   \n",
       "4     Just had an epiphany- isn’t it crazy how relig...   \n",
       "...                                                 ...   \n",
       "4579                               Scared of old people   \n",
       "4580   Recommendations for blocking out noise for sleep   \n",
       "4581             Mom Refuses Access to Diagnosis Report   \n",
       "4582    Do you feel uncomfortable with everyday sounds?   \n",
       "4583  Is it okay to self identify as autistic despit...   \n",
       "\n",
       "                                               selftext  subreddit  \\\n",
       "0     as many of you are aware by now the current u ...          0   \n",
       "1     what success have you had this week did you ac...          0   \n",
       "2     i now wake up at least 1 5 hours early to ensu...          0   \n",
       "3     i can t even explain how it hurts but it s so ...          0   \n",
       "4     so my mom can believe in all her saints god je...          0   \n",
       "...                                                 ...        ...   \n",
       "4579  anyone else scared of old people when i talk t...          1   \n",
       "4580  i have a really hard time sleeping due to even...          1   \n",
       "4581  i 17f was diagnosed with autism and adhd aroun...          1   \n",
       "4582  i m talking about inevitable sounds as birds d...          1   \n",
       "4583  so a few months ago i went into therapy for po...          1   \n",
       "\n",
       "      post_word_count  post_length  \\\n",
       "0                 319         2033   \n",
       "1                  52          288   \n",
       "2                  85          379   \n",
       "3                  62          304   \n",
       "4                 175          897   \n",
       "...               ...          ...   \n",
       "4579               77          398   \n",
       "4580              116          588   \n",
       "4581               83          403   \n",
       "4582              204         1067   \n",
       "4583              195         1010   \n",
       "\n",
       "                                         selftext_lemma  sentiment  \n",
       "0     a many of you are aware by now the current u s...    -0.9567  \n",
       "1     what success have you had this week did you ac...     0.9633  \n",
       "2     i now wake up at least 1 5 hour early to ensur...     0.6124  \n",
       "3     i can t even explain how it hurt but it s so m...    -0.8755  \n",
       "4     so my mom can believe in all her saint god jes...    -0.9856  \n",
       "...                                                 ...        ...  \n",
       "4579  anyone else scared of old people when i talk t...    -0.7933  \n",
       "4580  i have a really hard time sleeping due to even...    -0.6284  \n",
       "4581  i 17f wa diagnosed with autism and adhd around...    -0.4019  \n",
       "4582  i m talking about inevitable sound a bird dog ...     0.3574  \n",
       "4583  so a few month ago i went into therapy for pos...     0.9925  \n",
       "\n",
       "[4584 rows x 7 columns]"
      ]
     },
     "execution_count": 2,
     "metadata": {},
     "output_type": "execute_result"
    }
   ],
   "source": [
    "# reads in dataset\n",
    "sr_posts = pd.read_csv('./data_files/sr_posts_cleaned.csv')\n",
    "\n",
    "sr_posts"
   ]
  },
  {
   "cell_type": "code",
   "execution_count": 3,
   "id": "6fc7ff85-92b7-4543-a98f-58caa7457090",
   "metadata": {
    "tags": []
   },
   "outputs": [
    {
     "data": {
      "text/plain": [
       "title               object\n",
       "selftext            object\n",
       "subreddit            int64\n",
       "post_word_count      int64\n",
       "post_length          int64\n",
       "selftext_lemma      object\n",
       "sentiment          float64\n",
       "dtype: object"
      ]
     },
     "execution_count": 3,
     "metadata": {},
     "output_type": "execute_result"
    }
   ],
   "source": [
    "sr_posts.dtypes"
   ]
  },
  {
   "cell_type": "code",
   "execution_count": 4,
   "id": "5e191fd5-debf-43f1-8086-caccbb4ef945",
   "metadata": {
    "tags": []
   },
   "outputs": [
    {
     "data": {
      "text/plain": [
       "title               0\n",
       "selftext            7\n",
       "subreddit           0\n",
       "post_word_count     0\n",
       "post_length         0\n",
       "selftext_lemma     10\n",
       "sentiment           0\n",
       "dtype: int64"
      ]
     },
     "execution_count": 4,
     "metadata": {},
     "output_type": "execute_result"
    }
   ],
   "source": [
    "# check for nulls\n",
    "sr_posts.isnull().sum()"
   ]
  },
  {
   "cell_type": "code",
   "execution_count": 5,
   "id": "dd226934-481a-491b-a7da-aece995045a7",
   "metadata": {
    "tags": []
   },
   "outputs": [],
   "source": [
    "# drop all null values\n",
    "sr_posts.dropna(inplace = True)"
   ]
  },
  {
   "cell_type": "code",
   "execution_count": 6,
   "id": "63162332-82b7-4bee-b1fd-f2af6620c72c",
   "metadata": {
    "tags": []
   },
   "outputs": [
    {
     "data": {
      "text/plain": [
       "title              0\n",
       "selftext           0\n",
       "subreddit          0\n",
       "post_word_count    0\n",
       "post_length        0\n",
       "selftext_lemma     0\n",
       "sentiment          0\n",
       "dtype: int64"
      ]
     },
     "execution_count": 6,
     "metadata": {},
     "output_type": "execute_result"
    }
   ],
   "source": [
    "# check for nulls\n",
    "sr_posts.isnull().sum()"
   ]
  },
  {
   "cell_type": "code",
   "execution_count": 7,
   "id": "2639a7e5-0ea9-4dbf-989e-d869e7e883cd",
   "metadata": {
    "tags": []
   },
   "outputs": [
    {
     "data": {
      "text/plain": [
       "1    0.500219\n",
       "0    0.499781\n",
       "Name: subreddit, dtype: float64"
      ]
     },
     "execution_count": 7,
     "metadata": {},
     "output_type": "execute_result"
    }
   ],
   "source": [
    "# displays proportion of posts belonging to each subreddit\n",
    "sr_posts['subreddit'].value_counts(normalize = True)"
   ]
  },
  {
   "cell_type": "code",
   "execution_count": 8,
   "id": "11136c5c-04af-4f1e-9825-bf3a0f99b298",
   "metadata": {
    "tags": []
   },
   "outputs": [],
   "source": [
    "# declares features and target variable, then train/test splits dataset\n",
    "X = sr_posts['selftext_lemma']\n",
    "y = sr_posts['subreddit']\n",
    "X_train, X_test, y_train, y_test = train_test_split(X, y, stratify = y, random_state = 42)"
   ]
  },
  {
   "cell_type": "code",
   "execution_count": 9,
   "id": "3dcd9323-df60-4d23-b635-5b6bcf53106f",
   "metadata": {
    "tags": []
   },
   "outputs": [],
   "source": [
    "# builds a list of stop words including English and adding subreddit specific words\n",
    "new_stop_words = stopwords.words('english')\n",
    "incl_stop_words = ['don', 've', 'autism', 'autistic', 'adhd', 'medication', 'meds']\n",
    "for word in incl_stop_words:\n",
    "    new_stop_words.append(word)"
   ]
  },
  {
   "cell_type": "code",
   "execution_count": 10,
   "id": "6400d596-7cb6-4d8b-8cc8-7e07b1e63b91",
   "metadata": {
    "tags": []
   },
   "outputs": [],
   "source": [
    "# creates a pipeline for the CountVectorizer and Logistic Regression\n",
    "pipe = Pipeline([\n",
    "    ('cvec', CountVectorizer(stop_words = new_stop_words)),\n",
    "    ('lr', LogisticRegression(max_iter = 5000))\n",
    "])"
   ]
  },
  {
   "cell_type": "code",
   "execution_count": 11,
   "id": "89c29ddd-6ef5-4930-bf21-f00d81accb70",
   "metadata": {
    "tags": []
   },
   "outputs": [],
   "source": [
    "# creates the pipe params for pipe\n",
    "pipe_params = {\n",
    "    'cvec__max_features': [4000, 5000],\n",
    "    'cvec__min_df': [2, 4, 6],\n",
    "    'cvec__max_df': [1.0, 0.8],\n",
    "    'lr__penalty': ['l2', None],\n",
    "    'lr__C': [0.1, 1, 10]\n",
    "}"
   ]
  },
  {
   "cell_type": "code",
   "execution_count": 12,
   "id": "64277208-74ae-4b6e-ac53-b309d33a1b20",
   "metadata": {
    "tags": []
   },
   "outputs": [
    {
     "name": "stdout",
     "output_type": "stream",
     "text": [
      "0.8206997084548104\n"
     ]
    },
    {
     "data": {
      "text/plain": [
       "{'cvec__max_df': 1.0,\n",
       " 'cvec__max_features': 5000,\n",
       " 'cvec__min_df': 2,\n",
       " 'lr__C': 0.1,\n",
       " 'lr__penalty': 'l2'}"
      ]
     },
     "execution_count": 12,
     "metadata": {},
     "output_type": "execute_result"
    }
   ],
   "source": [
    "# runs a grid search over pipe for the given params\n",
    "gs = GridSearchCV(pipe,\n",
    "                 param_grid=pipe_params,\n",
    "                 n_jobs = -1)\n",
    "\n",
    "# fits the grid search over our train data and prints best score and best params\n",
    "gs.fit(X_train, y_train)\n",
    "print(gs.best_score_) \n",
    "gs.best_params_"
   ]
  },
  {
   "cell_type": "code",
   "execution_count": 13,
   "id": "20658dd6-d2a5-4e6d-808c-c0b176f4bdd6",
   "metadata": {
    "tags": []
   },
   "outputs": [
    {
     "name": "stdout",
     "output_type": "stream",
     "text": [
      "Logistic Regression Lemmatized Training Score: 0.9565597667638484\n",
      "Logistic Regression Lemmatized Test Score: 0.8199300699300699\n"
     ]
    }
   ],
   "source": [
    "# print training and test scores\n",
    "print(f'Logistic Regression Lemmatized Training Score: {gs.score(X_train, y_train)}')\n",
    "print(f'Logistic Regression Lemmatized Test Score: {gs.score(X_test, y_test)}')"
   ]
  },
  {
   "cell_type": "markdown",
   "id": "ca6e2557-c005-4e5e-ac06-1714fee15871",
   "metadata": {},
   "source": [
    "We have already seen that this logistic regression model on our lemmatized, count vectorized words has an accuracy score of approximately 0.82 based on the test dataset. We know that the accuracy score is not the only metric to assess how well a model is performing. We will first make a confusion matrix for our production model to visualize how well our model is performing. Then we will look at the model's specificity, recall and precision to get a sense of how well it is performing on other metrics."
   ]
  },
  {
   "cell_type": "code",
   "execution_count": 14,
   "id": "3b203fa0-c8a0-4ea5-92be-4d00480b43fb",
   "metadata": {
    "tags": []
   },
   "outputs": [],
   "source": [
    "# creates predictions based on our model\n",
    "preds = gs.predict(X_test)"
   ]
  },
  {
   "cell_type": "code",
   "execution_count": 17,
   "id": "e74ed56a-5c06-46c7-a5ed-98d59d8f4308",
   "metadata": {
    "tags": []
   },
   "outputs": [
    {
     "data": {
      "image/png": "[encoded data removed]",
      "text/plain": [
       "<Figure size 640x480 with 2 Axes>"
      ]
     },
     "metadata": {},
     "output_type": "display_data"
    }
   ],
   "source": [
    "# Confusion matrix\n",
    "ConfusionMatrixDisplay.from_estimator(gs, X_test, y_test);"
   ]
  },
  {
   "cell_type": "markdown",
   "id": "23867784-67b7-4560-bb62-489fbd299263",
   "metadata": {},
   "source": [
    "Upon first glance of the confusion matrix, we can see that it appears that the model is better at predicting autistic text posts than it is at predicting ADHD text posts, just given the larger number of true positives in comparison to true negatives and the facts that the classes are split almost exactly evenly. This means that we can anticipate seeing a better recall rate than specificity rate since there are less false negatives than there are false positives.\n",
    "\n",
    "Let's investigate these other metrics."
   ]
  },
  {
   "cell_type": "code",
   "execution_count": 18,
   "id": "7d2c86b7-1361-4848-b583-f84f0391a4e6",
   "metadata": {
    "tags": []
   },
   "outputs": [],
   "source": [
    "# creates confusion matrix of \n",
    "tn, fp, fn, tp = confusion_matrix(y_test, preds).ravel()"
   ]
  },
  {
   "cell_type": "code",
   "execution_count": 19,
   "id": "65f0fc50-7bd9-45f6-8dd4-84ccd503e22d",
   "metadata": {
    "tags": []
   },
   "outputs": [
    {
     "data": {
      "text/plain": [
       "0.7884615384615384"
      ]
     },
     "execution_count": 19,
     "metadata": {},
     "output_type": "execute_result"
    }
   ],
   "source": [
    "# calculates the model specificity\n",
    "spec = tn / (tn + fp)\n",
    "spec"
   ]
  },
  {
   "cell_type": "code",
   "execution_count": 20,
   "id": "0ecaed42-9574-4ace-9a87-ddc104fc5529",
   "metadata": {
    "tags": []
   },
   "outputs": [
    {
     "data": {
      "text/plain": [
       "0.8513986013986014"
      ]
     },
     "execution_count": 20,
     "metadata": {},
     "output_type": "execute_result"
    }
   ],
   "source": [
    "# calculates the model recall\n",
    "recall = recall_score(y_test, preds)\n",
    "recall"
   ]
  },
  {
   "cell_type": "markdown",
   "id": "a5d67616-15e6-4d24-a7a4-75c2c44dd884",
   "metadata": {},
   "source": [
    "As we suggested it appears that our production model is more sensitive than it is specific. This would indicate that our model is better at picking up a higher proportion of the true positives to the total actual positives, approximately 0.85 as compared to its ability to detect the proportion of true negatives out of the total actual negatives, approximately 0.79.\n",
    "\n",
    "We can now compare the slightly higher recall score to the precision score and then our f1 score to see if there is a large difference in comparison to our original accuracy test score."
   ]
  },
  {
   "cell_type": "code",
   "execution_count": 21,
   "id": "1af51fef-f3b1-46f9-a0f3-c26fa8cd8cd4",
   "metadata": {
    "tags": []
   },
   "outputs": [
    {
     "data": {
      "text/plain": [
       "0.8009868421052632"
      ]
     },
     "execution_count": 21,
     "metadata": {},
     "output_type": "execute_result"
    }
   ],
   "source": [
    "# calculates the model precision\n",
    "precision = precision_score(y_test, preds)\n",
    "precision"
   ]
  },
  {
   "cell_type": "code",
   "execution_count": 23,
   "id": "9b33d2aa-0d3e-4f75-9a7f-a3ec53220acd",
   "metadata": {
    "tags": []
   },
   "outputs": [
    {
     "data": {
      "text/plain": [
       "0.8254237288135593"
      ]
     },
     "execution_count": 23,
     "metadata": {},
     "output_type": "execute_result"
    }
   ],
   "source": [
    "# calculates the model's f1 score\n",
    "f1_score(y_test, preds)"
   ]
  },
  {
   "cell_type": "markdown",
   "id": "095cfb81-b20c-451d-8a12-119a6c269e0c",
   "metadata": {},
   "source": [
    "Looking at the precision score, we can see that it is approximately 0.80, meaning that approximately 80% of the predicted positives are actually positive. In the case of our model, this means that we are correct in predicting autism only about 80% of the time that we predict a text is coming from the autism subreddit. The other 20% of the time we are finding that these are false positives, indicating that we are labeling ADHD posts erroneously.\n",
    "\n",
    "Lastly, with the f1 score of approximately 0.83 we see the harmonic mean between the precision and recall scores. This f1 score performs only slighlty better than our final test score of approximately 0.82. Our f1 score might make more sense for us to use if had we more unbalanced classes, which skewed our accuracy score, but in this case, given the very close nature of the two classes, we argue that the accuracy score is sufficient to evaluate this model's effectiveness.\n",
    "\n",
    "We will now leave with some final conclusions for our disability advocacy organization for neurodiverse people."
   ]
  },
  {
   "cell_type": "markdown",
   "id": "3ad655ec-4afa-4073-894b-a49e768ff7bf",
   "metadata": {},
   "source": [
    "---\n",
    "\n",
    "## Organizational Recommendations\n",
    "\n",
    "After multiple model iterations, we have concluded that using lemmatized text posts from our two subreddits with common English stop words and a few additional, specific stop words were likely the best performing features for our model. We saw that this model had approximately a 0.82 accuracy score about 32 percentage points above the null baseline accuracy score. Our goal was to develop a model with approximately 90% accuracy, so our production model here unfortunately faalls short and misclassifies text posts about 18% of the time.\n",
    "\n",
    "We shall discuss the findings and recommendations below:\n",
    "\n",
    "---\n",
    "\n",
    "**Finding 1:** The final logistic regression production model after multiple model iterations only achieved about 82% accuracy, which failed to meet our target of a model which could predict with 90% accuracy.\n",
    "\n",
    "**Recommendation 1:** The disability advocacy organization may choose to invest in refining this model further, either by gaining access to or purchasing more social media data from other websites such as Twitter, Facebook, or the like where there are similar affinity communities of neurodiverse people discussing their own experience. Collecting more data from different social media platforms may yield slightly better results in our model, as this may pull in a more diverse collection of people's experiences and perhaps wider demographics.\n",
    "\n",
    "---\n",
    "\n",
    "**Finding 2:** The final logistic regression production model is more sensitive than it is precise. This means that out of all the actual posts on the autism subreddit, the model predicted that they were autism posts about 85% of the time, which slightly exceeded the model's accuracy of 82%. However, the model was less precise so out of all its predictions of autism, it was only correct about 80% of the time. In this case, false positives were more common than false negatives.\n",
    "\n",
    "**Recommendation 2:** Should the disability advocacy organization use this model to refer neurodiverse novices to social support groups or services, the organization should take extra care in building in another layer of support to screen for people with ADHD who were erroneously misclassified as having autism. While this model can be used as an initial screening tool for people seeking help and seeking to put a name to their experience, an expert in leading some of these social groups may be present during an initial meeting to guide new attendees in whether their experience most likely fits that of ADHD or autism. While this may appear to defeat the purpose of having the model in the first place and avoiding medical evaluation, we would argue that it still gets predictions correct approximately 82% of the time, so a lot of time and money can be saved in evaluating each individual and instead focus on the organization autism social support groups and looking for referred members who may be experiencing more signs of living with ADHD than with autism.\n",
    "\n",
    "---\n",
    "\n",
    "**Finding 3:** In our exploratory data analysis, corroborated by outside research, we see extremely high overlap in the bag of words used most frequently to describe the lived experiences of people with ADHD and autism, both in common social language, but also in themes of specific topics which appear similar across the neurodiverse spectrum of experiences.\n",
    "\n",
    "**Recommendation 3:** The disability advocacy organization may do well to begin offering a peer social support group for all novice neurodiverse people regardless of their suspicions of belonging to either ADHD or autism communities. While their is still a definite need for affinity groups and support services tailored to the needs of specific disabilities, for the novice exploring their disability identity and consciousness, it may be a sufficient first step to have the option of a mixed group of neurodiverse with whom to engage and share experiences."
   ]
  }
 ],
 "metadata": {
  "kernelspec": {
   "display_name": "Python [conda env:dsi] *",
   "language": "python",
   "name": "conda-env-dsi-py"
  },
  "language_info": {
   "codemirror_mode": {
    "name": "ipython",
    "version": 3
   },
   "file_extension": ".py",
   "mimetype": "text/x-python",
   "name": "python",
   "nbconvert_exporter": "python",
   "pygments_lexer": "ipython3",
   "version": "3.8.16"
  }
 },
 "nbformat": 4,
 "nbformat_minor": 5
}
